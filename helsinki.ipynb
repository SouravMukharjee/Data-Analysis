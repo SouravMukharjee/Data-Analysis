{
 "cells": [
  {
   "cell_type": "code",
   "execution_count": 48,
   "id": "b05ea928-5a5f-4d36-9cbf-9cfcf9635c8e",
   "metadata": {},
   "outputs": [
    {
     "name": "stdout",
     "output_type": "stream",
     "text": [
      "Requirement already satisfied: pandas in c:\\users\\user\\appdata\\local\\programs\\python\\python312\\lib\\site-packages (2.2.3)"
     ]
    },
    {
     "name": "stderr",
     "output_type": "stream",
     "text": [
      "\n",
      "[notice] A new release of pip is available: 23.2.1 -> 24.2\n",
      "[notice] To update, run: python.exe -m pip install --upgrade pip\n"
     ]
    },
    {
     "name": "stdout",
     "output_type": "stream",
     "text": [
      "\n",
      "Requirement already satisfied: numpy>=1.26.0 in c:\\users\\user\\appdata\\local\\programs\\python\\python312\\lib\\site-packages (from pandas) (1.26.1)\n",
      "Requirement already satisfied: python-dateutil>=2.8.2 in c:\\users\\user\\appdata\\local\\programs\\python\\python312\\lib\\site-packages (from pandas) (2.8.2)\n",
      "Requirement already satisfied: pytz>=2020.1 in c:\\users\\user\\appdata\\local\\programs\\python\\python312\\lib\\site-packages (from pandas) (2024.2)\n",
      "Requirement already satisfied: tzdata>=2022.7 in c:\\users\\user\\appdata\\local\\programs\\python\\python312\\lib\\site-packages (from pandas) (2024.2)\n",
      "Requirement already satisfied: six>=1.5 in c:\\users\\user\\appdata\\local\\programs\\python\\python312\\lib\\site-packages (from python-dateutil>=2.8.2->pandas) (1.16.0)\n"
     ]
    }
   ],
   "source": [
    "!pip install pandas"
   ]
  },
  {
   "cell_type": "code",
   "execution_count": 8,
   "id": "270db5ef-9c6e-4c2f-81ab-67cffe095f3b",
   "metadata": {},
   "outputs": [
    {
     "name": "stdout",
     "output_type": "stream",
     "text": [
      "   Policy No.         Insured Name           Owner Name  Sex Date of Birth  \\\n",
      "0         NaN                  NaN                  NaN  NaN           NaN   \n",
      "1    118223.0  IBNE ABBAS TALUKDAR  IBNE ABBAS TALUKDAR    M     06-OCT-15   \n",
      "\n",
      "     Age   Unnamed: 6 Unnamed: 7            Unnamed: 8    Commencement Date  \\\n",
      "0  Entry  current age    Adj age  Date of calculation                   NaN   \n",
      "1      0            7          7   2022-03-31 00:00:00  2016-02-01 00:00:00   \n",
      "\n",
      "   ...  Unnamed: 63     Unnamed: 64  Unnamed: 65 Unnamed: 66 Unnamed: 67  \\\n",
      "0  ...  Premium WPD  Premium AD & D          DPR         IBR         FPR   \n",
      "1  ...            0               0            0    244.5467    272.2788   \n",
      "\n",
      "                   Unnamed: 68    Unnamed: 69 Unnamed: 70  Unnamed: 71 Remarks  \n",
      "0  Total Supplementary Premium  Total Premium  Commission  Net Premium     NaN  \n",
      "1                     516.8255      679.68856         NaN    679.68856     NaN  \n",
      "\n",
      "[2 rows x 73 columns]\n"
     ]
    }
   ],
   "source": [
    "import pandas as pd\n",
    "import numpy as np\n",
    "import seaborn as sns\n",
    "import matplotlib.pyplot as plt\n",
    "\n",
    "file = r'C:\\Users\\user\\Downloads\\dhur.xlsx'\n",
    "df = pd.read_excel(file,sheet_name = 'Premium calculation')\n",
    "\n",
    "print(df.head(2))\n",
    "\n",
    "\n"
   ]
  },
  {
   "cell_type": "code",
   "execution_count": 63,
   "id": "25760a0e-3443-4c6e-93da-77d0871894e2",
   "metadata": {},
   "outputs": [
    {
     "name": "stdout",
     "output_type": "stream",
     "text": [
      "73\n"
     ]
    }
   ],
   "source": [
    "print(df.columns)\n"
   ]
  },
  {
   "cell_type": "code",
   "execution_count": 67,
   "id": "00f81803-2322-4e98-b28d-b5d277eff74f",
   "metadata": {},
   "outputs": [
    {
     "name": "stdout",
     "output_type": "stream",
     "text": [
      "total column are: 73\n",
      "Total rows are 351\n"
     ]
    }
   ],
   "source": [
    "col = len(df.columns)\n",
    "print(\"total column are: \" + str(col))\n",
    "\n",
    "# this is the total rows\n",
    "\n",
    "ro = len(df)\n",
    "print(\"Total rows are \" + str(ro))"
   ]
  },
  {
   "cell_type": "code",
   "execution_count": 72,
   "id": "bc87b11e-ad9e-4c43-8040-373d421a5d6d",
   "metadata": {},
   "outputs": [
    {
     "name": "stdout",
     "output_type": "stream",
     "text": [
      "Index(['Policy No.', 'Insured Name', 'Owner Name', 'Sex', 'Date of Birth',\n",
      "       'Age', 'Unnamed: 6', 'Unnamed: 7', 'Unnamed: 8', 'Commencement Date',\n",
      "       'Unnamed: 10', 'Policy Accept Date', 'EM', 'Plan', 'Unnamed: 14',\n",
      "       'Unnamed: 15', 'Riders', 'Unnamed: 17', 'Unnamed: 18', 'Unnamed: 19',\n",
      "       'Unnamed: 20', 'Unnamed: 21', 'Unnamed: 22', 'Unnamed: 23',\n",
      "       'Unnamed: 24',\n",
      "       'Total SA of Supplementary Riders ( For Tagged Policies)',\n",
      "       'Unnamed: 26', 'Unnamed: 27', 'Unnamed: 28', 'Unnamed: 29',\n",
      "       'Unnamed: 30', 'Unnamed: 31', 'Unnamed: 32', 'Unnamed: 33',\n",
      "       'Unnamed: 34', 'Unnamed: 35', 'Unnamed: 36', 'Unnamed: 37',\n",
      "       'Unnamed: 38', 'Unnamed: 39', 'Unnamed: 40', 'Plan Type', 'Sum Assured',\n",
      "       'Total  SA of this quarter', 'total SA before this quarter',\n",
      "       'total SA with this quarter's policies (SQL)',\n",
      "       'Retention \\nOn \\nprevious Policies',\n",
      "       'Retention On This quarter's policy', 'Term', 'Sum Reinsured',\n",
      "       'Premium Rate', 'Unnamed: 51', 'Unnamed: 52', 'Unnamed: 53',\n",
      "       'Unnamed: 54', 'Unnamed: 55', 'Unnamed: 56', 'Unnamed: 57',\n",
      "       'Unnamed: 58', 'RI_Premium', 'Unnamed: 60', 'Unnamed: 61',\n",
      "       'Unnamed: 62', 'Unnamed: 63', 'Unnamed: 64', 'Unnamed: 65',\n",
      "       'Unnamed: 66', 'Unnamed: 67', 'Unnamed: 68', 'Unnamed: 69',\n",
      "       'Unnamed: 70', 'Unnamed: 71', 'Remarks'],\n",
      "      dtype='object')\n"
     ]
    }
   ],
   "source": [
    "print(df.columns)"
   ]
  },
  {
   "cell_type": "code",
   "execution_count": 71,
   "id": "420985b3-70d9-43ef-a55a-b594077af744",
   "metadata": {},
   "outputs": [
    {
     "name": "stdout",
     "output_type": "stream",
     "text": [
      "49\n"
     ]
    }
   ],
   "source": [
    "unname = df.columns.str.contains('Unnamed').sum()\n",
    "print(unname)"
   ]
  },
  {
   "cell_type": "code",
   "execution_count": 73,
   "id": "7eed234b-d513-4b04-bf6a-2c6961ba0d56",
   "metadata": {},
   "outputs": [
    {
     "name": "stdout",
     "output_type": "stream",
     "text": [
      "107749857.0\n"
     ]
    }
   ],
   "source": [
    "jog = df['Sum Assured'].sum()\n",
    "print(jog)"
   ]
  },
  {
   "cell_type": "code",
   "execution_count": 115,
   "id": "5a6f3390-9bc1-4d19-83dc-450f23a466e5",
   "metadata": {},
   "outputs": [
    {
     "name": "stdout",
     "output_type": "stream",
     "text": [
      "Sum Assured                  215499714\n",
      "Total  SA of this quarter    216438714\n",
      "dtype: int32\n"
     ]
    }
   ],
   "source": [
    "total_sum = df[['Sum Assured', 'Total  SA of this quarter']].sum().astype(int)\n",
    "print(total_sum)"
   ]
  },
  {
   "cell_type": "code",
   "execution_count": 114,
   "id": "e3eb98b1-856f-4d60-aa20-7ff2a672768c",
   "metadata": {},
   "outputs": [
    {
     "name": "stdout",
     "output_type": "stream",
     "text": [
      "3147\n"
     ]
    }
   ],
   "source": [
    "total_tsum = df['Term'].sum().astype(int)\n",
    "print(total_tsum)"
   ]
  },
  {
   "cell_type": "code",
   "execution_count": 120,
   "id": "592c8a88-f0b8-4ada-8b75-352a1dcafe89",
   "metadata": {},
   "outputs": [
    {
     "name": "stdout",
     "output_type": "stream",
     "text": [
      "['Policy No.', 'Insured Name', 'Owner Name', 'Sex', 'Date of Birth', 'Age', 'Unnamed: 6', 'Unnamed: 7', 'Unnamed: 8', 'Commencement Date', 'Unnamed: 10', 'Policy Accept Date', 'EM', 'Plan', 'Unnamed: 14', 'Unnamed: 15', 'Riders', 'Unnamed: 17', 'Unnamed: 18', 'Unnamed: 19', 'Unnamed: 20', 'Unnamed: 21', 'Unnamed: 22', 'Unnamed: 23', 'Unnamed: 24', 'Total SA of Supplementary Riders ( For Tagged Policies)', 'Unnamed: 26', 'Unnamed: 27', 'Unnamed: 28', 'Unnamed: 29', 'Unnamed: 30', 'Unnamed: 31', 'Unnamed: 32', 'Unnamed: 33', 'Unnamed: 34', 'Unnamed: 35', 'Unnamed: 36', 'Unnamed: 37', 'Unnamed: 38', 'Unnamed: 39', 'Unnamed: 40', 'Plan Type', 'Sum Assured', 'Total  SA of this quarter', 'total SA before this quarter', \"total SA with this quarter's policies (SQL)\", 'Retention \\nOn \\nprevious Policies', \"Retention On This quarter's policy\", 'Term', 'Sum Reinsured', 'Premium Rate', 'Unnamed: 51', 'Unnamed: 52', 'Unnamed: 53', 'Unnamed: 54', 'Unnamed: 55', 'Unnamed: 56', 'Unnamed: 57', 'Unnamed: 58', 'RI_Premium', 'Unnamed: 60', 'Unnamed: 61', 'Unnamed: 62', 'Unnamed: 63', 'Unnamed: 64', 'Unnamed: 65', 'Unnamed: 66', 'Unnamed: 67', 'Unnamed: 68', 'Unnamed: 69', 'Unnamed: 70', 'Unnamed: 71', 'Remarks']\n"
     ]
    }
   ],
   "source": [
    "print(df.columns.tolist())"
   ]
  },
  {
   "cell_type": "code",
   "execution_count": 138,
   "id": "848ed015-4e5e-45bd-8fc4-ad6a1fb20c47",
   "metadata": {},
   "outputs": [
    {
     "name": "stdout",
     "output_type": "stream",
     "text": [
      "   Policy No.           Insured Name              Owner Name  Sex\n",
      "0         NaN                    NaN                     NaN  NaN\n",
      "1    118223.0    IBNE ABBAS TALUKDAR     IBNE ABBAS TALUKDAR    M\n",
      "2    280421.0  SABRINA ABEDIN SHEEZA  MOHAMMAD JOYNAL ABEDIN    M\n",
      "3     65431.0       MD. SIRAJ BHUIAN        MD. SIRAJ BHUIAN    M\n"
     ]
    }
   ],
   "source": [
    "print(df.iloc[0:4, 0:4])"
   ]
  },
  {
   "cell_type": "code",
   "execution_count": 142,
   "id": "e0906535-0324-4b17-a3fb-f86fe874d819",
   "metadata": {},
   "outputs": [
    {
     "name": "stdout",
     "output_type": "stream",
     "text": [
      "33\n"
     ]
    }
   ],
   "source": [
    "total_tsum = df['Term'].iloc[0:4].sum().astype(int)\n",
    "print(total_tsum)"
   ]
  },
  {
   "cell_type": "code",
   "execution_count": 147,
   "id": "d7d254b3-a16f-4b06-8852-2693f4eb89a8",
   "metadata": {},
   "outputs": [
    {
     "data": {
      "text/plain": [
       "(351, 73)"
      ]
     },
     "execution_count": 147,
     "metadata": {},
     "output_type": "execute_result"
    }
   ],
   "source": [
    "df.shape"
   ]
  },
  {
   "cell_type": "code",
   "execution_count": 147,
   "id": "da47dbab-fa2e-4dc9-94c4-886541075025",
   "metadata": {},
   "outputs": [
    {
     "data": {
      "text/plain": [
       "(351, 73)"
      ]
     },
     "execution_count": 147,
     "metadata": {},
     "output_type": "execute_result"
    }
   ],
   "source": [
    "df.shape"
   ]
  },
  {
   "cell_type": "code",
   "execution_count": 158,
   "id": "e6e1abc9-5a2f-4117-8009-78597f6dc8e7",
   "metadata": {},
   "outputs": [
    {
     "data": {
      "text/html": [
       "<div>\n",
       "<style scoped>\n",
       "    .dataframe tbody tr th:only-of-type {\n",
       "        vertical-align: middle;\n",
       "    }\n",
       "\n",
       "    .dataframe tbody tr th {\n",
       "        vertical-align: top;\n",
       "    }\n",
       "\n",
       "    .dataframe thead th {\n",
       "        text-align: right;\n",
       "    }\n",
       "</style>\n",
       "<table border=\"1\" class=\"dataframe\">\n",
       "  <thead>\n",
       "    <tr style=\"text-align: right;\">\n",
       "      <th></th>\n",
       "      <th>Policy No.</th>\n",
       "      <th>Insured Name</th>\n",
       "      <th>Owner Name</th>\n",
       "      <th>Sex</th>\n",
       "      <th>Date of Birth</th>\n",
       "      <th>Age</th>\n",
       "      <th>Unnamed: 6</th>\n",
       "      <th>Unnamed: 7</th>\n",
       "      <th>Unnamed: 8</th>\n",
       "      <th>Commencement Date</th>\n",
       "      <th>...</th>\n",
       "      <th>Unnamed: 62</th>\n",
       "      <th>Unnamed: 63</th>\n",
       "      <th>Unnamed: 64</th>\n",
       "      <th>Unnamed: 65</th>\n",
       "      <th>Unnamed: 66</th>\n",
       "      <th>Unnamed: 67</th>\n",
       "      <th>Unnamed: 68</th>\n",
       "      <th>Unnamed: 69</th>\n",
       "      <th>Unnamed: 70</th>\n",
       "      <th>Unnamed: 71</th>\n",
       "    </tr>\n",
       "  </thead>\n",
       "  <tbody>\n",
       "    <tr>\n",
       "      <th>0</th>\n",
       "      <td>NaN</td>\n",
       "      <td>NaN</td>\n",
       "      <td>NaN</td>\n",
       "      <td>NaN</td>\n",
       "      <td>NaN</td>\n",
       "      <td>Entry</td>\n",
       "      <td>current age</td>\n",
       "      <td>Adj age</td>\n",
       "      <td>Date of calculation</td>\n",
       "      <td>NaN</td>\n",
       "      <td>...</td>\n",
       "      <td>Premium CI100%</td>\n",
       "      <td>Premium WPD</td>\n",
       "      <td>Premium AD &amp; D</td>\n",
       "      <td>DPR</td>\n",
       "      <td>IBR</td>\n",
       "      <td>FPR</td>\n",
       "      <td>Total Supplementary Premium</td>\n",
       "      <td>Total Premium</td>\n",
       "      <td>Commission</td>\n",
       "      <td>Net Premium</td>\n",
       "    </tr>\n",
       "    <tr>\n",
       "      <th>1</th>\n",
       "      <td>118223.0</td>\n",
       "      <td>IBNE ABBAS TALUKDAR</td>\n",
       "      <td>IBNE ABBAS TALUKDAR</td>\n",
       "      <td>M</td>\n",
       "      <td>06-OCT-15</td>\n",
       "      <td>0</td>\n",
       "      <td>7</td>\n",
       "      <td>7</td>\n",
       "      <td>2022-03-31 00:00:00</td>\n",
       "      <td>2016-02-01 00:00:00</td>\n",
       "      <td>...</td>\n",
       "      <td>0</td>\n",
       "      <td>0</td>\n",
       "      <td>0</td>\n",
       "      <td>0</td>\n",
       "      <td>244.5467</td>\n",
       "      <td>272.2788</td>\n",
       "      <td>516.8255</td>\n",
       "      <td>679.68856</td>\n",
       "      <td>NaN</td>\n",
       "      <td>679.68856</td>\n",
       "    </tr>\n",
       "    <tr>\n",
       "      <th>2</th>\n",
       "      <td>280421.0</td>\n",
       "      <td>SABRINA ABEDIN SHEEZA</td>\n",
       "      <td>MOHAMMAD JOYNAL ABEDIN</td>\n",
       "      <td>M</td>\n",
       "      <td>24-MAR-13</td>\n",
       "      <td>7</td>\n",
       "      <td>10</td>\n",
       "      <td>10</td>\n",
       "      <td>2022-03-31 00:00:00</td>\n",
       "      <td>16-JAN-20</td>\n",
       "      <td>...</td>\n",
       "      <td>0</td>\n",
       "      <td>0</td>\n",
       "      <td>0</td>\n",
       "      <td>0</td>\n",
       "      <td>0</td>\n",
       "      <td>0</td>\n",
       "      <td>0</td>\n",
       "      <td>19.703</td>\n",
       "      <td>NaN</td>\n",
       "      <td>19.703</td>\n",
       "    </tr>\n",
       "    <tr>\n",
       "      <th>3</th>\n",
       "      <td>65431.0</td>\n",
       "      <td>MD. SIRAJ BHUIAN</td>\n",
       "      <td>MD. SIRAJ BHUIAN</td>\n",
       "      <td>M</td>\n",
       "      <td>19-JUL-84</td>\n",
       "      <td>30</td>\n",
       "      <td>38</td>\n",
       "      <td>38</td>\n",
       "      <td>2022-06-30 00:00:00</td>\n",
       "      <td>17-JUN-14</td>\n",
       "      <td>...</td>\n",
       "      <td>0</td>\n",
       "      <td>0</td>\n",
       "      <td>0</td>\n",
       "      <td>0</td>\n",
       "      <td>0</td>\n",
       "      <td>0</td>\n",
       "      <td>0</td>\n",
       "      <td>171.96</td>\n",
       "      <td>NaN</td>\n",
       "      <td>171.96</td>\n",
       "    </tr>\n",
       "    <tr>\n",
       "      <th>4</th>\n",
       "      <td>121950.0</td>\n",
       "      <td>MOHAMMED HOSSAIN</td>\n",
       "      <td>MOHAMMED HOSSAIN</td>\n",
       "      <td>M</td>\n",
       "      <td>01-MAR-79</td>\n",
       "      <td>37</td>\n",
       "      <td>44</td>\n",
       "      <td>44</td>\n",
       "      <td>2022-06-30 00:00:00</td>\n",
       "      <td>23-APR-16</td>\n",
       "      <td>...</td>\n",
       "      <td>0</td>\n",
       "      <td>0</td>\n",
       "      <td>0</td>\n",
       "      <td>0</td>\n",
       "      <td>0</td>\n",
       "      <td>0</td>\n",
       "      <td>0</td>\n",
       "      <td>340.293352</td>\n",
       "      <td>NaN</td>\n",
       "      <td>340.293352</td>\n",
       "    </tr>\n",
       "  </tbody>\n",
       "</table>\n",
       "<p>5 rows × 72 columns</p>\n",
       "</div>"
      ],
      "text/plain": [
       "   Policy No.           Insured Name              Owner Name  Sex  \\\n",
       "0         NaN                    NaN                     NaN  NaN   \n",
       "1    118223.0    IBNE ABBAS TALUKDAR     IBNE ABBAS TALUKDAR    M   \n",
       "2    280421.0  SABRINA ABEDIN SHEEZA  MOHAMMAD JOYNAL ABEDIN    M   \n",
       "3     65431.0       MD. SIRAJ BHUIAN        MD. SIRAJ BHUIAN    M   \n",
       "4    121950.0       MOHAMMED HOSSAIN        MOHAMMED HOSSAIN    M   \n",
       "\n",
       "  Date of Birth    Age   Unnamed: 6 Unnamed: 7            Unnamed: 8  \\\n",
       "0           NaN  Entry  current age    Adj age  Date of calculation    \n",
       "1     06-OCT-15      0            7          7   2022-03-31 00:00:00   \n",
       "2     24-MAR-13      7           10         10   2022-03-31 00:00:00   \n",
       "3     19-JUL-84     30           38         38   2022-06-30 00:00:00   \n",
       "4     01-MAR-79     37           44         44   2022-06-30 00:00:00   \n",
       "\n",
       "     Commencement Date  ...     Unnamed: 62  Unnamed: 63     Unnamed: 64  \\\n",
       "0                  NaN  ...  Premium CI100%  Premium WPD  Premium AD & D   \n",
       "1  2016-02-01 00:00:00  ...               0            0               0   \n",
       "2            16-JAN-20  ...               0            0               0   \n",
       "3            17-JUN-14  ...               0            0               0   \n",
       "4            23-APR-16  ...               0            0               0   \n",
       "\n",
       "  Unnamed: 65 Unnamed: 66 Unnamed: 67                  Unnamed: 68  \\\n",
       "0         DPR         IBR         FPR  Total Supplementary Premium   \n",
       "1           0    244.5467    272.2788                     516.8255   \n",
       "2           0           0           0                            0   \n",
       "3           0           0           0                            0   \n",
       "4           0           0           0                            0   \n",
       "\n",
       "     Unnamed: 69 Unnamed: 70  Unnamed: 71  \n",
       "0  Total Premium  Commission  Net Premium  \n",
       "1      679.68856         NaN    679.68856  \n",
       "2         19.703         NaN       19.703  \n",
       "3         171.96         NaN       171.96  \n",
       "4     340.293352         NaN   340.293352  \n",
       "\n",
       "[5 rows x 72 columns]"
      ]
     },
     "execution_count": 158,
     "metadata": {},
     "output_type": "execute_result"
    }
   ],
   "source": [
    "df.head()"
   ]
  },
  {
   "cell_type": "code",
   "execution_count": 149,
   "id": "0a40fb51-d74a-4cd6-afd3-f54979310fd4",
   "metadata": {},
   "outputs": [
    {
     "data": {
      "text/plain": [
       "<bound method DataFrame.info of      Policy No.           Insured Name              Owner Name  Sex  \\\n",
       "0           NaN                    NaN                     NaN  NaN   \n",
       "1      118223.0    IBNE ABBAS TALUKDAR     IBNE ABBAS TALUKDAR    M   \n",
       "2      280421.0  SABRINA ABEDIN SHEEZA  MOHAMMAD JOYNAL ABEDIN    M   \n",
       "3       65431.0       MD. SIRAJ BHUIAN        MD. SIRAJ BHUIAN    M   \n",
       "4      121950.0       MOHAMMED HOSSAIN        MOHAMMED HOSSAIN    M   \n",
       "..          ...                    ...                     ...  ...   \n",
       "346    435069.0          JAHANGIR ALAM           JAHANGIR ALAM    M   \n",
       "347    435078.0          JAHANGIR ALAM           JAHANGIR ALAM    M   \n",
       "348    435087.0          JAHANGIR ALAM           JAHANGIR ALAM    M   \n",
       "349    435096.0          JAHANGIR ALAM           JAHANGIR ALAM    M   \n",
       "350         NaN                    NaN                     NaN  NaN   \n",
       "\n",
       "    Date of Birth    Age   Unnamed: 6 Unnamed: 7            Unnamed: 8  \\\n",
       "0             NaN  Entry  current age    Adj age  Date of calculation    \n",
       "1       06-OCT-15      0            7          7   2022-03-31 00:00:00   \n",
       "2       24-MAR-13      7           10         10   2022-03-31 00:00:00   \n",
       "3       19-JUL-84     30           38         38   2022-06-30 00:00:00   \n",
       "4       01-MAR-79     37           44         44   2022-06-30 00:00:00   \n",
       "..            ...    ...          ...        ...                   ...   \n",
       "346     15-JUN-72     49           51         51   2022-06-30 00:00:00   \n",
       "347     15-JUN-72     49           51         51   2022-06-30 00:00:00   \n",
       "348     15-JUN-72     49           51         51   2022-06-30 00:00:00   \n",
       "349     15-JUN-72     49           51         51   2022-06-30 00:00:00   \n",
       "350           NaN    NaN          NaN        NaN                   NaN   \n",
       "\n",
       "       Commencement Date  ...  Unnamed: 63     Unnamed: 64  Unnamed: 65  \\\n",
       "0                    NaN  ...  Premium WPD  Premium AD & D          DPR   \n",
       "1    2016-02-01 00:00:00  ...            0               0            0   \n",
       "2              16-JAN-20  ...            0               0            0   \n",
       "3              17-JUN-14  ...            0               0            0   \n",
       "4              23-APR-16  ...            0               0            0   \n",
       "..                   ...  ...          ...             ...          ...   \n",
       "346            19-JUN-21  ...            0               0            0   \n",
       "347            19-JUN-21  ...            0               0            0   \n",
       "348            19-JUN-21  ...            0               0            0   \n",
       "349            19-JUN-21  ...            0               0            0   \n",
       "350                  NaN  ...          NaN             NaN          NaN   \n",
       "\n",
       "    Unnamed: 66 Unnamed: 67                  Unnamed: 68    Unnamed: 69  \\\n",
       "0           IBR         FPR  Total Supplementary Premium  Total Premium   \n",
       "1      244.5467    272.2788                     516.8255      679.68856   \n",
       "2             0           0                            0         19.703   \n",
       "3             0           0                            0         171.96   \n",
       "4             0           0                            0     340.293352   \n",
       "..          ...         ...                          ...            ...   \n",
       "346           0           0                            0              0   \n",
       "347           0           0                            0              0   \n",
       "348           0           0                            0              0   \n",
       "349           0           0                            0      106.05552   \n",
       "350         NaN         NaN                  8340.894185  231426.194108   \n",
       "\n",
       "    Unnamed: 70    Unnamed: 71 Remarks  \n",
       "0    Commission    Net Premium     NaN  \n",
       "1           NaN      679.68856     NaN  \n",
       "2           NaN         19.703     NaN  \n",
       "3           NaN         171.96     NaN  \n",
       "4           NaN     340.293352     NaN  \n",
       "..          ...            ...     ...  \n",
       "346         NaN              0     NaN  \n",
       "347         NaN              0     NaN  \n",
       "348         NaN              0     NaN  \n",
       "349         NaN      106.05552     NaN  \n",
       "350         NaN  231426.194108     NaN  \n",
       "\n",
       "[351 rows x 73 columns]>"
      ]
     },
     "execution_count": 149,
     "metadata": {},
     "output_type": "execute_result"
    }
   ],
   "source": [
    "df.info"
   ]
  },
  {
   "cell_type": "code",
   "execution_count": 156,
   "id": "2631db03-999c-4895-960c-c1b512050f67",
   "metadata": {},
   "outputs": [
    {
     "data": {
      "text/plain": [
       "<bound method DataFrame.info of      Policy No.           Insured Name              Owner Name  Sex  \\\n",
       "0           NaN                    NaN                     NaN  NaN   \n",
       "1      118223.0    IBNE ABBAS TALUKDAR     IBNE ABBAS TALUKDAR    M   \n",
       "2      280421.0  SABRINA ABEDIN SHEEZA  MOHAMMAD JOYNAL ABEDIN    M   \n",
       "3       65431.0       MD. SIRAJ BHUIAN        MD. SIRAJ BHUIAN    M   \n",
       "4      121950.0       MOHAMMED HOSSAIN        MOHAMMED HOSSAIN    M   \n",
       "..          ...                    ...                     ...  ...   \n",
       "346    435069.0          JAHANGIR ALAM           JAHANGIR ALAM    M   \n",
       "347    435078.0          JAHANGIR ALAM           JAHANGIR ALAM    M   \n",
       "348    435087.0          JAHANGIR ALAM           JAHANGIR ALAM    M   \n",
       "349    435096.0          JAHANGIR ALAM           JAHANGIR ALAM    M   \n",
       "350         NaN                    NaN                     NaN  NaN   \n",
       "\n",
       "    Date of Birth    Age   Unnamed: 6 Unnamed: 7            Unnamed: 8  \\\n",
       "0             NaN  Entry  current age    Adj age  Date of calculation    \n",
       "1       06-OCT-15      0            7          7   2022-03-31 00:00:00   \n",
       "2       24-MAR-13      7           10         10   2022-03-31 00:00:00   \n",
       "3       19-JUL-84     30           38         38   2022-06-30 00:00:00   \n",
       "4       01-MAR-79     37           44         44   2022-06-30 00:00:00   \n",
       "..            ...    ...          ...        ...                   ...   \n",
       "346     15-JUN-72     49           51         51   2022-06-30 00:00:00   \n",
       "347     15-JUN-72     49           51         51   2022-06-30 00:00:00   \n",
       "348     15-JUN-72     49           51         51   2022-06-30 00:00:00   \n",
       "349     15-JUN-72     49           51         51   2022-06-30 00:00:00   \n",
       "350           NaN    NaN          NaN        NaN                   NaN   \n",
       "\n",
       "       Commencement Date  ...     Unnamed: 62  Unnamed: 63     Unnamed: 64  \\\n",
       "0                    NaN  ...  Premium CI100%  Premium WPD  Premium AD & D   \n",
       "1    2016-02-01 00:00:00  ...               0            0               0   \n",
       "2              16-JAN-20  ...               0            0               0   \n",
       "3              17-JUN-14  ...               0            0               0   \n",
       "4              23-APR-16  ...               0            0               0   \n",
       "..                   ...  ...             ...          ...             ...   \n",
       "346            19-JUN-21  ...               0            0               0   \n",
       "347            19-JUN-21  ...               0            0               0   \n",
       "348            19-JUN-21  ...               0            0               0   \n",
       "349            19-JUN-21  ...               0            0               0   \n",
       "350                  NaN  ...             NaN          NaN             NaN   \n",
       "\n",
       "    Unnamed: 65 Unnamed: 66 Unnamed: 67                  Unnamed: 68  \\\n",
       "0           DPR         IBR         FPR  Total Supplementary Premium   \n",
       "1             0    244.5467    272.2788                     516.8255   \n",
       "2             0           0           0                            0   \n",
       "3             0           0           0                            0   \n",
       "4             0           0           0                            0   \n",
       "..          ...         ...         ...                          ...   \n",
       "346           0           0           0                            0   \n",
       "347           0           0           0                            0   \n",
       "348           0           0           0                            0   \n",
       "349           0           0           0                            0   \n",
       "350         NaN         NaN         NaN                  8340.894185   \n",
       "\n",
       "       Unnamed: 69 Unnamed: 70    Unnamed: 71  \n",
       "0    Total Premium  Commission    Net Premium  \n",
       "1        679.68856         NaN      679.68856  \n",
       "2           19.703         NaN         19.703  \n",
       "3           171.96         NaN         171.96  \n",
       "4       340.293352         NaN     340.293352  \n",
       "..             ...         ...            ...  \n",
       "346              0         NaN              0  \n",
       "347              0         NaN              0  \n",
       "348              0         NaN              0  \n",
       "349      106.05552         NaN      106.05552  \n",
       "350  231426.194108         NaN  231426.194108  \n",
       "\n",
       "[351 rows x 72 columns]>"
      ]
     },
     "execution_count": 156,
     "metadata": {},
     "output_type": "execute_result"
    }
   ],
   "source": [
    "df.info"
   ]
  },
  {
   "cell_type": "code",
   "execution_count": 160,
   "id": "b80d667c-a349-4fd3-98af-3df53281522c",
   "metadata": {},
   "outputs": [
    {
     "data": {
      "text/plain": [
       "Policy No.       106\n",
       "Insured Name     106\n",
       "Owner Name       106\n",
       "Sex              106\n",
       "Date of Birth    106\n",
       "                ... \n",
       "Unnamed: 67        2\n",
       "Unnamed: 68      105\n",
       "Unnamed: 69      105\n",
       "Unnamed: 70      350\n",
       "Unnamed: 71      105\n",
       "Length: 72, dtype: int64"
      ]
     },
     "execution_count": 160,
     "metadata": {},
     "output_type": "execute_result"
    }
   ],
   "source": [
    "pd.isnull(df).sum()"
   ]
  },
  {
   "cell_type": "code",
   "execution_count": 161,
   "id": "a005d03f-1775-4436-97e3-3bec00f50359",
   "metadata": {},
   "outputs": [
    {
     "data": {
      "text/plain": [
       "(351, 72)"
      ]
     },
     "execution_count": 161,
     "metadata": {},
     "output_type": "execute_result"
    }
   ],
   "source": [
    "df.shape"
   ]
  },
  {
   "cell_type": "code",
   "execution_count": 165,
   "id": "d44128a1-9791-409a-80dc-2986dcbd2250",
   "metadata": {},
   "outputs": [
    {
     "data": {
      "text/plain": [
       "<bound method DataFrame.sum of      Policy No.  Insured Name  Owner Name    Sex  Date of Birth    Age  \\\n",
       "0          True          True        True   True           True  False   \n",
       "1         False         False       False  False          False  False   \n",
       "2         False         False       False  False          False  False   \n",
       "3         False         False       False  False          False  False   \n",
       "4         False         False       False  False          False  False   \n",
       "..          ...           ...         ...    ...            ...    ...   \n",
       "346       False         False       False  False          False  False   \n",
       "347       False         False       False  False          False  False   \n",
       "348       False         False       False  False          False  False   \n",
       "349       False         False       False  False          False  False   \n",
       "350        True          True        True   True           True   True   \n",
       "\n",
       "     Unnamed: 6  Unnamed: 7  Unnamed: 8  Commencement Date  ...  Unnamed: 62  \\\n",
       "0         False       False       False               True  ...        False   \n",
       "1         False       False       False              False  ...        False   \n",
       "2         False       False       False              False  ...        False   \n",
       "3         False       False       False              False  ...        False   \n",
       "4         False       False       False              False  ...        False   \n",
       "..          ...         ...         ...                ...  ...          ...   \n",
       "346       False       False       False              False  ...        False   \n",
       "347       False       False       False              False  ...        False   \n",
       "348       False       False       False              False  ...        False   \n",
       "349       False       False       False              False  ...        False   \n",
       "350        True        True        True               True  ...         True   \n",
       "\n",
       "     Unnamed: 63  Unnamed: 64  Unnamed: 65  Unnamed: 66  Unnamed: 67  \\\n",
       "0          False        False        False        False        False   \n",
       "1          False        False        False        False        False   \n",
       "2          False        False        False        False        False   \n",
       "3          False        False        False        False        False   \n",
       "4          False        False        False        False        False   \n",
       "..           ...          ...          ...          ...          ...   \n",
       "346        False        False        False        False        False   \n",
       "347        False        False        False        False        False   \n",
       "348        False        False        False        False        False   \n",
       "349        False        False        False        False        False   \n",
       "350         True         True         True         True         True   \n",
       "\n",
       "     Unnamed: 68  Unnamed: 69  Unnamed: 70  Unnamed: 71  \n",
       "0          False        False        False        False  \n",
       "1          False        False         True        False  \n",
       "2          False        False         True        False  \n",
       "3          False        False         True        False  \n",
       "4          False        False         True        False  \n",
       "..           ...          ...          ...          ...  \n",
       "346        False        False         True        False  \n",
       "347        False        False         True        False  \n",
       "348        False        False         True        False  \n",
       "349        False        False         True        False  \n",
       "350        False        False         True        False  \n",
       "\n",
       "[351 rows x 72 columns]>"
      ]
     },
     "execution_count": 165,
     "metadata": {},
     "output_type": "execute_result"
    }
   ],
   "source": [
    "pd.isna(df).sum"
   ]
  },
  {
   "cell_type": "code",
   "execution_count": 168,
   "id": "146fc75c-4b32-4cdd-ab06-8470c823a197",
   "metadata": {},
   "outputs": [
    {
     "data": {
      "text/html": [
       "<div>\n",
       "<style scoped>\n",
       "    .dataframe tbody tr th:only-of-type {\n",
       "        vertical-align: middle;\n",
       "    }\n",
       "\n",
       "    .dataframe tbody tr th {\n",
       "        vertical-align: top;\n",
       "    }\n",
       "\n",
       "    .dataframe thead th {\n",
       "        text-align: right;\n",
       "    }\n",
       "</style>\n",
       "<table border=\"1\" class=\"dataframe\">\n",
       "  <thead>\n",
       "    <tr style=\"text-align: right;\">\n",
       "      <th></th>\n",
       "      <th>Policy No.</th>\n",
       "      <th>Insured Name</th>\n",
       "      <th>Owner Name</th>\n",
       "      <th>Gender</th>\n",
       "      <th>Date of Birth</th>\n",
       "      <th>Age</th>\n",
       "      <th>Unnamed: 6</th>\n",
       "      <th>Unnamed: 7</th>\n",
       "      <th>Unnamed: 8</th>\n",
       "      <th>Commencement Date</th>\n",
       "      <th>...</th>\n",
       "      <th>Unnamed: 62</th>\n",
       "      <th>Unnamed: 63</th>\n",
       "      <th>Unnamed: 64</th>\n",
       "      <th>Unnamed: 65</th>\n",
       "      <th>Unnamed: 66</th>\n",
       "      <th>Unnamed: 67</th>\n",
       "      <th>Unnamed: 68</th>\n",
       "      <th>Unnamed: 69</th>\n",
       "      <th>Unnamed: 70</th>\n",
       "      <th>Unnamed: 71</th>\n",
       "    </tr>\n",
       "  </thead>\n",
       "  <tbody>\n",
       "    <tr>\n",
       "      <th>0</th>\n",
       "      <td>NaN</td>\n",
       "      <td>NaN</td>\n",
       "      <td>NaN</td>\n",
       "      <td>NaN</td>\n",
       "      <td>NaN</td>\n",
       "      <td>Entry</td>\n",
       "      <td>current age</td>\n",
       "      <td>Adj age</td>\n",
       "      <td>Date of calculation</td>\n",
       "      <td>NaN</td>\n",
       "      <td>...</td>\n",
       "      <td>Premium CI100%</td>\n",
       "      <td>Premium WPD</td>\n",
       "      <td>Premium AD &amp; D</td>\n",
       "      <td>DPR</td>\n",
       "      <td>IBR</td>\n",
       "      <td>FPR</td>\n",
       "      <td>Total Supplementary Premium</td>\n",
       "      <td>Total Premium</td>\n",
       "      <td>Commission</td>\n",
       "      <td>Net Premium</td>\n",
       "    </tr>\n",
       "    <tr>\n",
       "      <th>1</th>\n",
       "      <td>118223.0</td>\n",
       "      <td>IBNE ABBAS TALUKDAR</td>\n",
       "      <td>IBNE ABBAS TALUKDAR</td>\n",
       "      <td>M</td>\n",
       "      <td>06-OCT-15</td>\n",
       "      <td>0</td>\n",
       "      <td>7</td>\n",
       "      <td>7</td>\n",
       "      <td>2022-03-31 00:00:00</td>\n",
       "      <td>2016-02-01 00:00:00</td>\n",
       "      <td>...</td>\n",
       "      <td>0</td>\n",
       "      <td>0</td>\n",
       "      <td>0</td>\n",
       "      <td>0</td>\n",
       "      <td>244.5467</td>\n",
       "      <td>272.2788</td>\n",
       "      <td>516.8255</td>\n",
       "      <td>679.68856</td>\n",
       "      <td>NaN</td>\n",
       "      <td>679.68856</td>\n",
       "    </tr>\n",
       "    <tr>\n",
       "      <th>2</th>\n",
       "      <td>280421.0</td>\n",
       "      <td>SABRINA ABEDIN SHEEZA</td>\n",
       "      <td>MOHAMMAD JOYNAL ABEDIN</td>\n",
       "      <td>M</td>\n",
       "      <td>24-MAR-13</td>\n",
       "      <td>7</td>\n",
       "      <td>10</td>\n",
       "      <td>10</td>\n",
       "      <td>2022-03-31 00:00:00</td>\n",
       "      <td>16-JAN-20</td>\n",
       "      <td>...</td>\n",
       "      <td>0</td>\n",
       "      <td>0</td>\n",
       "      <td>0</td>\n",
       "      <td>0</td>\n",
       "      <td>0</td>\n",
       "      <td>0</td>\n",
       "      <td>0</td>\n",
       "      <td>19.703</td>\n",
       "      <td>NaN</td>\n",
       "      <td>19.703</td>\n",
       "    </tr>\n",
       "    <tr>\n",
       "      <th>3</th>\n",
       "      <td>65431.0</td>\n",
       "      <td>MD. SIRAJ BHUIAN</td>\n",
       "      <td>MD. SIRAJ BHUIAN</td>\n",
       "      <td>M</td>\n",
       "      <td>19-JUL-84</td>\n",
       "      <td>30</td>\n",
       "      <td>38</td>\n",
       "      <td>38</td>\n",
       "      <td>2022-06-30 00:00:00</td>\n",
       "      <td>17-JUN-14</td>\n",
       "      <td>...</td>\n",
       "      <td>0</td>\n",
       "      <td>0</td>\n",
       "      <td>0</td>\n",
       "      <td>0</td>\n",
       "      <td>0</td>\n",
       "      <td>0</td>\n",
       "      <td>0</td>\n",
       "      <td>171.96</td>\n",
       "      <td>NaN</td>\n",
       "      <td>171.96</td>\n",
       "    </tr>\n",
       "    <tr>\n",
       "      <th>4</th>\n",
       "      <td>121950.0</td>\n",
       "      <td>MOHAMMED HOSSAIN</td>\n",
       "      <td>MOHAMMED HOSSAIN</td>\n",
       "      <td>M</td>\n",
       "      <td>01-MAR-79</td>\n",
       "      <td>37</td>\n",
       "      <td>44</td>\n",
       "      <td>44</td>\n",
       "      <td>2022-06-30 00:00:00</td>\n",
       "      <td>23-APR-16</td>\n",
       "      <td>...</td>\n",
       "      <td>0</td>\n",
       "      <td>0</td>\n",
       "      <td>0</td>\n",
       "      <td>0</td>\n",
       "      <td>0</td>\n",
       "      <td>0</td>\n",
       "      <td>0</td>\n",
       "      <td>340.293352</td>\n",
       "      <td>NaN</td>\n",
       "      <td>340.293352</td>\n",
       "    </tr>\n",
       "    <tr>\n",
       "      <th>...</th>\n",
       "      <td>...</td>\n",
       "      <td>...</td>\n",
       "      <td>...</td>\n",
       "      <td>...</td>\n",
       "      <td>...</td>\n",
       "      <td>...</td>\n",
       "      <td>...</td>\n",
       "      <td>...</td>\n",
       "      <td>...</td>\n",
       "      <td>...</td>\n",
       "      <td>...</td>\n",
       "      <td>...</td>\n",
       "      <td>...</td>\n",
       "      <td>...</td>\n",
       "      <td>...</td>\n",
       "      <td>...</td>\n",
       "      <td>...</td>\n",
       "      <td>...</td>\n",
       "      <td>...</td>\n",
       "      <td>...</td>\n",
       "      <td>...</td>\n",
       "    </tr>\n",
       "    <tr>\n",
       "      <th>346</th>\n",
       "      <td>435069.0</td>\n",
       "      <td>JAHANGIR ALAM</td>\n",
       "      <td>JAHANGIR ALAM</td>\n",
       "      <td>M</td>\n",
       "      <td>15-JUN-72</td>\n",
       "      <td>49</td>\n",
       "      <td>51</td>\n",
       "      <td>51</td>\n",
       "      <td>2022-06-30 00:00:00</td>\n",
       "      <td>19-JUN-21</td>\n",
       "      <td>...</td>\n",
       "      <td>0</td>\n",
       "      <td>0</td>\n",
       "      <td>0</td>\n",
       "      <td>0</td>\n",
       "      <td>0</td>\n",
       "      <td>0</td>\n",
       "      <td>0</td>\n",
       "      <td>0</td>\n",
       "      <td>NaN</td>\n",
       "      <td>0</td>\n",
       "    </tr>\n",
       "    <tr>\n",
       "      <th>347</th>\n",
       "      <td>435078.0</td>\n",
       "      <td>JAHANGIR ALAM</td>\n",
       "      <td>JAHANGIR ALAM</td>\n",
       "      <td>M</td>\n",
       "      <td>15-JUN-72</td>\n",
       "      <td>49</td>\n",
       "      <td>51</td>\n",
       "      <td>51</td>\n",
       "      <td>2022-06-30 00:00:00</td>\n",
       "      <td>19-JUN-21</td>\n",
       "      <td>...</td>\n",
       "      <td>0</td>\n",
       "      <td>0</td>\n",
       "      <td>0</td>\n",
       "      <td>0</td>\n",
       "      <td>0</td>\n",
       "      <td>0</td>\n",
       "      <td>0</td>\n",
       "      <td>0</td>\n",
       "      <td>NaN</td>\n",
       "      <td>0</td>\n",
       "    </tr>\n",
       "    <tr>\n",
       "      <th>348</th>\n",
       "      <td>435087.0</td>\n",
       "      <td>JAHANGIR ALAM</td>\n",
       "      <td>JAHANGIR ALAM</td>\n",
       "      <td>M</td>\n",
       "      <td>15-JUN-72</td>\n",
       "      <td>49</td>\n",
       "      <td>51</td>\n",
       "      <td>51</td>\n",
       "      <td>2022-06-30 00:00:00</td>\n",
       "      <td>19-JUN-21</td>\n",
       "      <td>...</td>\n",
       "      <td>0</td>\n",
       "      <td>0</td>\n",
       "      <td>0</td>\n",
       "      <td>0</td>\n",
       "      <td>0</td>\n",
       "      <td>0</td>\n",
       "      <td>0</td>\n",
       "      <td>0</td>\n",
       "      <td>NaN</td>\n",
       "      <td>0</td>\n",
       "    </tr>\n",
       "    <tr>\n",
       "      <th>349</th>\n",
       "      <td>435096.0</td>\n",
       "      <td>JAHANGIR ALAM</td>\n",
       "      <td>JAHANGIR ALAM</td>\n",
       "      <td>M</td>\n",
       "      <td>15-JUN-72</td>\n",
       "      <td>49</td>\n",
       "      <td>51</td>\n",
       "      <td>51</td>\n",
       "      <td>2022-06-30 00:00:00</td>\n",
       "      <td>19-JUN-21</td>\n",
       "      <td>...</td>\n",
       "      <td>0</td>\n",
       "      <td>0</td>\n",
       "      <td>0</td>\n",
       "      <td>0</td>\n",
       "      <td>0</td>\n",
       "      <td>0</td>\n",
       "      <td>0</td>\n",
       "      <td>106.05552</td>\n",
       "      <td>NaN</td>\n",
       "      <td>106.05552</td>\n",
       "    </tr>\n",
       "    <tr>\n",
       "      <th>350</th>\n",
       "      <td>NaN</td>\n",
       "      <td>NaN</td>\n",
       "      <td>NaN</td>\n",
       "      <td>NaN</td>\n",
       "      <td>NaN</td>\n",
       "      <td>NaN</td>\n",
       "      <td>NaN</td>\n",
       "      <td>NaN</td>\n",
       "      <td>NaN</td>\n",
       "      <td>NaN</td>\n",
       "      <td>...</td>\n",
       "      <td>NaN</td>\n",
       "      <td>NaN</td>\n",
       "      <td>NaN</td>\n",
       "      <td>NaN</td>\n",
       "      <td>NaN</td>\n",
       "      <td>NaN</td>\n",
       "      <td>8340.894185</td>\n",
       "      <td>231426.194108</td>\n",
       "      <td>NaN</td>\n",
       "      <td>231426.194108</td>\n",
       "    </tr>\n",
       "  </tbody>\n",
       "</table>\n",
       "<p>351 rows × 72 columns</p>\n",
       "</div>"
      ],
      "text/plain": [
       "     Policy No.           Insured Name              Owner Name Gender  \\\n",
       "0           NaN                    NaN                     NaN    NaN   \n",
       "1      118223.0    IBNE ABBAS TALUKDAR     IBNE ABBAS TALUKDAR      M   \n",
       "2      280421.0  SABRINA ABEDIN SHEEZA  MOHAMMAD JOYNAL ABEDIN      M   \n",
       "3       65431.0       MD. SIRAJ BHUIAN        MD. SIRAJ BHUIAN      M   \n",
       "4      121950.0       MOHAMMED HOSSAIN        MOHAMMED HOSSAIN      M   \n",
       "..          ...                    ...                     ...    ...   \n",
       "346    435069.0          JAHANGIR ALAM           JAHANGIR ALAM      M   \n",
       "347    435078.0          JAHANGIR ALAM           JAHANGIR ALAM      M   \n",
       "348    435087.0          JAHANGIR ALAM           JAHANGIR ALAM      M   \n",
       "349    435096.0          JAHANGIR ALAM           JAHANGIR ALAM      M   \n",
       "350         NaN                    NaN                     NaN    NaN   \n",
       "\n",
       "    Date of Birth    Age   Unnamed: 6 Unnamed: 7            Unnamed: 8  \\\n",
       "0             NaN  Entry  current age    Adj age  Date of calculation    \n",
       "1       06-OCT-15      0            7          7   2022-03-31 00:00:00   \n",
       "2       24-MAR-13      7           10         10   2022-03-31 00:00:00   \n",
       "3       19-JUL-84     30           38         38   2022-06-30 00:00:00   \n",
       "4       01-MAR-79     37           44         44   2022-06-30 00:00:00   \n",
       "..            ...    ...          ...        ...                   ...   \n",
       "346     15-JUN-72     49           51         51   2022-06-30 00:00:00   \n",
       "347     15-JUN-72     49           51         51   2022-06-30 00:00:00   \n",
       "348     15-JUN-72     49           51         51   2022-06-30 00:00:00   \n",
       "349     15-JUN-72     49           51         51   2022-06-30 00:00:00   \n",
       "350           NaN    NaN          NaN        NaN                   NaN   \n",
       "\n",
       "       Commencement Date  ...     Unnamed: 62  Unnamed: 63     Unnamed: 64  \\\n",
       "0                    NaN  ...  Premium CI100%  Premium WPD  Premium AD & D   \n",
       "1    2016-02-01 00:00:00  ...               0            0               0   \n",
       "2              16-JAN-20  ...               0            0               0   \n",
       "3              17-JUN-14  ...               0            0               0   \n",
       "4              23-APR-16  ...               0            0               0   \n",
       "..                   ...  ...             ...          ...             ...   \n",
       "346            19-JUN-21  ...               0            0               0   \n",
       "347            19-JUN-21  ...               0            0               0   \n",
       "348            19-JUN-21  ...               0            0               0   \n",
       "349            19-JUN-21  ...               0            0               0   \n",
       "350                  NaN  ...             NaN          NaN             NaN   \n",
       "\n",
       "    Unnamed: 65 Unnamed: 66 Unnamed: 67                  Unnamed: 68  \\\n",
       "0           DPR         IBR         FPR  Total Supplementary Premium   \n",
       "1             0    244.5467    272.2788                     516.8255   \n",
       "2             0           0           0                            0   \n",
       "3             0           0           0                            0   \n",
       "4             0           0           0                            0   \n",
       "..          ...         ...         ...                          ...   \n",
       "346           0           0           0                            0   \n",
       "347           0           0           0                            0   \n",
       "348           0           0           0                            0   \n",
       "349           0           0           0                            0   \n",
       "350         NaN         NaN         NaN                  8340.894185   \n",
       "\n",
       "       Unnamed: 69 Unnamed: 70    Unnamed: 71  \n",
       "0    Total Premium  Commission    Net Premium  \n",
       "1        679.68856         NaN      679.68856  \n",
       "2           19.703         NaN         19.703  \n",
       "3           171.96         NaN         171.96  \n",
       "4       340.293352         NaN     340.293352  \n",
       "..             ...         ...            ...  \n",
       "346              0         NaN              0  \n",
       "347              0         NaN              0  \n",
       "348              0         NaN              0  \n",
       "349      106.05552         NaN      106.05552  \n",
       "350  231426.194108         NaN  231426.194108  \n",
       "\n",
       "[351 rows x 72 columns]"
      ]
     },
     "execution_count": 168,
     "metadata": {},
     "output_type": "execute_result"
    }
   ],
   "source": [
    "df.rename(columns ={'Sex': 'Gender'})"
   ]
  },
  {
   "cell_type": "code",
   "execution_count": 173,
   "id": "451121bc-a52b-4624-8bc4-42cb45f357c9",
   "metadata": {},
   "outputs": [
    {
     "data": {
      "text/plain": [
       "count    245\n",
       "mean      12\n",
       "std        5\n",
       "min        0\n",
       "25%       12\n",
       "50%       12\n",
       "75%       15\n",
       "max       34\n",
       "Name: Term, dtype: int32"
      ]
     },
     "execution_count": 173,
     "metadata": {},
     "output_type": "execute_result"
    }
   ],
   "source": [
    "df['Term'].describe().astype(int)"
   ]
  },
  {
   "cell_type": "code",
   "execution_count": 176,
   "id": "fdb22f7e-6ff6-4edd-935e-7c6723a5e9e9",
   "metadata": {},
   "outputs": [
    {
     "data": {
      "text/plain": [
       "<Axes: xlabel='count', ylabel='Sex'>"
      ]
     },
     "execution_count": 176,
     "metadata": {},
     "output_type": "execute_result"
    },
    {
     "data": {
      "image/png": "[encoded data removed]",
      "text/plain": [
       "<Figure size 640x480 with 1 Axes>"
      ]
     },
     "metadata": {},
     "output_type": "display_data"
    }
   ],
   "source": [
    "sns.countplot(y ='Sex', data = df)"
   ]
  },
  {
   "cell_type": "code",
   "execution_count": 187,
   "id": "ceeb56e8-7679-4412-93a9-110f62330dd3",
   "metadata": {},
   "outputs": [
    {
     "data": {
      "image/png": "[encoded data removed]",
      "text/plain": [
       "<Figure size 640x480 with 1 Axes>"
      ]
     },
     "metadata": {},
     "output_type": "display_data"
    }
   ],
   "source": [
    "ooo = sns.countplot(x='Sex', data = df)\n",
    "\n",
    "for bar_graph in ooo.containers:\n",
    "    ooo.label_outer(bar_graph)"
   ]
  },
  {
   "cell_type": "code",
   "execution_count": 181,
   "id": "0b78fb45-8fa7-489e-b847-bdcaab0092b3",
   "metadata": {},
   "outputs": [
    {
     "data": {
      "image/png": "[encoded data removed]",
      "text/plain": [
       "<Figure size 640x480 with 1 Axes>"
      ]
     },
     "metadata": {},
     "output_type": "display_data"
    }
   ],
   "source": [
    "\n",
    "ooo = sns.countplot(x='Sex', data=df)\n",
    "\n",
    "# Add labels on the bars\n",
    "for bar in ooo.patches:  # Use patches to get the bar containers\n",
    "    height = bar.get_height()  # Get the height of each bar\n",
    "    ooo.annotate(f'{height}',  # Annotate the height value\n",
    "                 (bar.get_x() + bar.get_width() / 2, height),  # Positioning\n",
    "                 ha='center', va='bottom')  # Aligning the text\n",
    "\n",
    "# Show the plot\n",
    "plt.show()\n"
   ]
  }
 ],
 "metadata": {
  "kernelspec": {
   "display_name": "Python 3 (ipykernel)",
   "language": "python",
   "name": "python3"
  },
  "language_info": {
   "codemirror_mode": {
    "name": "ipython",
    "version": 3
   },
   "file_extension": ".py",
   "mimetype": "text/x-python",
   "name": "python",
   "nbconvert_exporter": "python",
   "pygments_lexer": "ipython3",
   "version": "3.12.0"
  }
 },
 "nbformat": 4,
 "nbformat_minor": 5
}
